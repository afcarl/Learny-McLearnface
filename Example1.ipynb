{
 "cells": [
  {
   "cell_type": "markdown",
   "metadata": {},
   "source": [
    "# Example 1 - Overfitting Sample Data\n",
    "Here, we will use a simple model to overfit a set of randomly generated data points."
   ]
  },
  {
   "cell_type": "markdown",
   "metadata": {},
   "source": [
    "First, we import Numpy to hold the data, and we import Learny McLearnface."
   ]
  },
  {
   "cell_type": "code",
   "execution_count": 1,
   "metadata": {
    "collapsed": true
   },
   "outputs": [],
   "source": [
    "import numpy as np\n",
    "import LearnyMcLearnface as lml"
   ]
  },
  {
   "cell_type": "markdown",
   "metadata": {},
   "source": [
    "Now, we will create the data to be overfitted.  For the purposes of the example, we will create 100 700-dimensional data points, which will each be randomly assigned one of 10 classes.  We will attempt to use a model to overfit this data and achieve 100% accuracy on this training set.  \n",
    "\n",
    "We will organize the data points into a single numpy array, where the rows are individual datapoints, and we will also create a separate vector of integers which give the classes for corresponding examples.\n",
    "\n",
    "We initialize the data and its classes:"
   ]
  },
  {
   "cell_type": "code",
   "execution_count": 2,
   "metadata": {
    "collapsed": true
   },
   "outputs": [],
   "source": [
    "test_data = np.random.randn(100, 700)\n",
    "test_classes = np.random.randint(1, 10, 100)"
   ]
  },
  {
   "cell_type": "markdown",
   "metadata": {},
   "source": [
    "Now, in order to feed the data to Learny McLearnface, we wrap it in a data dictionary with specified labels.  \n",
    "\n",
    "(Note that he validation set and training set will be the same in this case, as we are intentionally trying to overfit a training set.)"
   ]
  },
  {
   "cell_type": "code",
   "execution_count": 3,
   "metadata": {
    "collapsed": false
   },
   "outputs": [],
   "source": [
    "data = {\n",
    "    'X_train' : test_data,\n",
    "    'y_train' : test_classes,\n",
    "    'X_val' : test_data,\n",
    "    'y_val' : test_classes\n",
    "}"
   ]
  },
  {
   "cell_type": "markdown",
   "metadata": {},
   "source": [
    "Now, we will create our model.  We will use a simple fully-connected shallow network, with 500 hidden layer neurons, ReLU activations, and a softmax classifier at the end.  \n",
    "\n",
    "First, we set our initial network options in a dictionary.  We will have an input dimension of 700, and we will use the Xavier scheme to initialize our parameters."
   ]
  },
  {
   "cell_type": "code",
   "execution_count": 4,
   "metadata": {
    "collapsed": true
   },
   "outputs": [],
   "source": [
    "opts = {\n",
    "    'input_dim' : 700,\n",
    "    'init_scheme' : 'xavier'\n",
    "}"
   ]
  },
  {
   "cell_type": "markdown",
   "metadata": {},
   "source": [
    "And finally, we build the network itself.  With the above description, the layer architecture will be:\n",
    "\n",
    "(Affine) -> (ReLU) -> (Affine) -> (Softmax)\n",
    "\n",
    "We create our network object, with 500 hidden layer neurons and 10 output layer neurons (which correspond to our 10 classes)."
   ]
  },
  {
   "cell_type": "code",
   "execution_count": 5,
   "metadata": {
    "collapsed": true
   },
   "outputs": [],
   "source": [
    "nn = lml.NeuralNetwork(opts)\n",
    "nn.add_layer('Affine', {'neurons':500})\n",
    "nn.add_layer('ReLU', {})\n",
    "nn.add_layer('Affine', {'neurons':10})\n",
    "nn.add_layer('SoftmaxLoss', {})"
   ]
  },
  {
   "cell_type": "markdown",
   "metadata": {},
   "source": [
    "Now that our model is created, we must train it.  We use the given Trainer object to accomplish this.  First, we must supply training options.  These are, once again, provided in a dictionary.\n",
    "\n",
    "We will use basic stochastic gradient descent with a learning rate of 1, no regularization, and we will train for 10 epochs."
   ]
  },
  {
   "cell_type": "code",
   "execution_count": 6,
   "metadata": {
    "collapsed": false
   },
   "outputs": [],
   "source": [
    "opts = {\n",
    "    'update_options' : {'update_rule' : 'sgd', 'learning_rate' : 1},\n",
    "    'reg_param' : 0,\n",
    "    'num_epochs' : 10\n",
    "}"
   ]
  },
  {
   "cell_type": "markdown",
   "metadata": {},
   "source": [
    "Now we create the trainer object and give it the model, the data, and the options."
   ]
  },
  {
   "cell_type": "code",
   "execution_count": 7,
   "metadata": {
    "collapsed": true
   },
   "outputs": [],
   "source": [
    "trainer = lml.Trainer(nn, data, opts)"
   ]
  },
  {
   "cell_type": "markdown",
   "metadata": {},
   "source": [
    "We will use the trainer's toolset to first print the accuracy of the model before training.  Since the model was randomly initialized and there are 10 classes, we should expect an initial accuracy close to 10%"
   ]
  },
  {
   "cell_type": "code",
   "execution_count": 8,
   "metadata": {
    "collapsed": false
   },
   "outputs": [
    {
     "name": "stdout",
     "output_type": "stream",
     "text": [
      "Initial model accuracy: 0.14\n"
     ]
    }
   ],
   "source": [
    "accuracy = trainer.accuracy(test_data, test_classes)\n",
    "print('Initial model accuracy:', accuracy)"
   ]
  },
  {
   "cell_type": "markdown",
   "metadata": {},
   "source": [
    "Since we have supplied all the requirements necessary for the trainer, we simply use the train() function to train the model.  This will print status updates at the end of each epoch."
   ]
  },
  {
   "cell_type": "code",
   "execution_count": 9,
   "metadata": {
    "collapsed": false,
    "scrolled": true
   },
   "outputs": [
    {
     "name": "stdout",
     "output_type": "stream",
     "text": [
      "Epoch 1 of 10 Validation accuracy: 0.33\n",
      "Epoch 2 of 10 Validation accuracy: 0.5\n",
      "Epoch 3 of 10 Validation accuracy: 0.75\n",
      "Epoch 4 of 10 Validation accuracy: 0.92\n",
      "Epoch 5 of 10 Validation accuracy: 1.0\n",
      "Epoch 6 of 10 Validation accuracy: 1.0\n",
      "Epoch 7 of 10 Validation accuracy: 1.0\n",
      "Epoch 8 of 10 Validation accuracy: 1.0\n",
      "Epoch 9 of 10 Validation accuracy: 1.0\n",
      "Epoch 10 of 10 Validation accuracy: 1.0\n"
     ]
    }
   ],
   "source": [
    "trainer.train()"
   ]
  },
  {
   "cell_type": "markdown",
   "metadata": {},
   "source": [
    "As you can see, the network overfits the data very easily, achieving a validation accuracy of 100%.  For the sake of completeness, we will print the final validation accuracy of the model."
   ]
  },
  {
   "cell_type": "code",
   "execution_count": 10,
   "metadata": {
    "collapsed": false
   },
   "outputs": [
    {
     "name": "stdout",
     "output_type": "stream",
     "text": [
      "Final model accuracy: 1.0\n"
     ]
    }
   ],
   "source": [
    "accuracy = trainer.accuracy(test_data, test_classes)\n",
    "print('Final model accuracy:', accuracy)"
   ]
  }
 ],
 "metadata": {
  "anaconda-cloud": {},
  "kernelspec": {
   "display_name": "Python [Root]",
   "language": "python",
   "name": "Python [Root]"
  },
  "language_info": {
   "codemirror_mode": {
    "name": "ipython",
    "version": 3
   },
   "file_extension": ".py",
   "mimetype": "text/x-python",
   "name": "python",
   "nbconvert_exporter": "python",
   "pygments_lexer": "ipython3",
   "version": "3.5.2"
  }
 },
 "nbformat": 4,
 "nbformat_minor": 0
}
